{
 "cells": [
  {
   "cell_type": "code",
   "execution_count": null,
   "id": "46f9b48e",
   "metadata": {},
   "outputs": [],
   "source": []
  },
  {
   "cell_type": "code",
   "execution_count": null,
   "id": "2734ca45",
   "metadata": {},
   "outputs": [],
   "source": [
    "import random"
   ]
  },
  {
   "cell_type": "code",
   "execution_count": null,
   "id": "9247732c",
   "metadata": {},
   "outputs": [],
   "source": [
    "def palabra_random(lista):\n",
    "    return random.choice(lista)\n"
   ]
  },
  {
   "cell_type": "code",
   "execution_count": null,
   "id": "b8174a33",
   "metadata": {},
   "outputs": [],
   "source": [
    "def dificultad():\n",
    "  \n",
    "  \n",
    "    lst_palabras5 = []\n",
    "    lst_palabras10 = []\n",
    "    lst_palabras15 = []\n",
    "\n",
    "    dif = int(input(\"¿Qué grado de dificultad quiere? \\n Escoge un número: \\n\"\n",
    "                          \"1. facil \\n\"\n",
    "                          \"2. medio \\n\"\n",
    "                          \"3. dificil \\n\"))\n",
    "    global pala_hang\n",
    "    while dif <= 4:\n",
    "        if dif == 1:\n",
    "            pala_hang = palabra_random(lst_palabras5)\n",
    "            return pala_hang\n",
    "        elif dif == 2:\n",
    "            pala_hang = palabra_random(lst_palabras10)\n",
    "            return pala_hang\n",
    "        elif dif == 3:\n",
    "            pala_hang = palabra_random(lst_palabras15)\n",
    "            return pala_hang\n",
    "        else:\n",
    "            dif = int(input('Selecciona una dificultad: 1, 2 o 3: '))\n",
    "    "
   ]
  }
 ],
 "metadata": {
  "kernelspec": {
   "display_name": "Python 3",
   "language": "python",
   "name": "python3"
  },
  "language_info": {
   "codemirror_mode": {
    "name": "ipython",
    "version": 3
   },
   "file_extension": ".py",
   "mimetype": "text/x-python",
   "name": "python",
   "nbconvert_exporter": "python",
   "pygments_lexer": "ipython3",
   "version": "3.8.8"
  }
 },
 "nbformat": 4,
 "nbformat_minor": 5
}
